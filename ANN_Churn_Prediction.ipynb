{
  "nbformat": 4,
  "nbformat_minor": 0,
  "metadata": {
    "colab": {
      "private_outputs": true,
      "provenance": [],
      "gpuType": "T4",
      "mount_file_id": "1TRJliCCeTjwIQbtjXfxHO3BNlS_Kvo9y",
      "authorship_tag": "ABX9TyP2M8i2B/xcx4k1n4aZj24v",
      "include_colab_link": true
    },
    "kernelspec": {
      "name": "python3",
      "display_name": "Python 3"
    },
    "language_info": {
      "name": "python"
    },
    "accelerator": "GPU"
  },
  "cells": [
    {
      "cell_type": "markdown",
      "metadata": {
        "id": "view-in-github",
        "colab_type": "text"
      },
      "source": [
        "<a href=\"https://colab.research.google.com/github/RickyDoan/DL-Tensor-Flow-Churn-Prediction/blob/main/ANN_Churn_Prediction.ipynb\" target=\"_parent\"><img src=\"https://colab.research.google.com/assets/colab-badge.svg\" alt=\"Open In Colab\"/></a>"
      ]
    },
    {
      "cell_type": "code",
      "execution_count": null,
      "metadata": {
        "id": "qiuqDmyZw5db"
      },
      "outputs": [],
      "source": [
        "import tensorflow as tf\n",
        "from tensorflow import keras\n",
        "import numpy as np\n",
        "import matplotlib.pyplot as plt\n",
        "import seaborn as sns\n",
        "import pandas as pd"
      ]
    },
    {
      "cell_type": "code",
      "source": [
        "tf.config.list_physical_devices('GPU')"
      ],
      "metadata": {
        "id": "7B3Aa-rB0BCx"
      },
      "execution_count": null,
      "outputs": []
    },
    {
      "cell_type": "code",
      "source": [
        "import kagglehub\n",
        "\n",
        "# Download latest version\n",
        "path = kagglehub.dataset_download(\"blastchar/telco-customer-churn\")\n",
        "\n",
        "print(\"Path to dataset files:\", path)"
      ],
      "metadata": {
        "id": "-ZO8I8R9yPkX"
      },
      "execution_count": null,
      "outputs": []
    },
    {
      "cell_type": "code",
      "source": [
        "path"
      ],
      "metadata": {
        "id": "nE1BX_gAyUQU"
      },
      "execution_count": null,
      "outputs": []
    },
    {
      "cell_type": "code",
      "source": [
        "import os\n",
        "\n",
        "filepath = os.path.join(path, \"WA_Fn-UseC_-Telco-Customer-Churn.csv\")\n",
        "df = pd.read_csv(filepath)\n",
        "print(df.shape)\n",
        "df.head()"
      ],
      "metadata": {
        "id": "9PGWAPjAygl1"
      },
      "execution_count": null,
      "outputs": []
    },
    {
      "cell_type": "markdown",
      "source": [
        "# Cleaning Data"
      ],
      "metadata": {
        "id": "ArLKKKKK0Pi3"
      }
    },
    {
      "cell_type": "code",
      "source": [
        "# Drop unimportant columns\n",
        "\n",
        "df.drop('customerID', axis=1, inplace=True)"
      ],
      "metadata": {
        "id": "zoihzO1wyn60"
      },
      "execution_count": null,
      "outputs": []
    },
    {
      "cell_type": "code",
      "source": [
        "# Check null values\n",
        "df.isnull().sum()"
      ],
      "metadata": {
        "id": "_1d1oyy80ZW-"
      },
      "execution_count": null,
      "outputs": []
    },
    {
      "cell_type": "code",
      "source": [
        "# Check duplicate values\n",
        "df.duplicated().sum()"
      ],
      "metadata": {
        "id": "XXupg1NR0dzn"
      },
      "execution_count": null,
      "outputs": []
    },
    {
      "cell_type": "code",
      "source": [
        "df.drop_duplicates(inplace=True, keep='first')"
      ],
      "metadata": {
        "id": "-9Xw6thK0kbs"
      },
      "execution_count": null,
      "outputs": []
    },
    {
      "cell_type": "code",
      "source": [
        "df.duplicated().sum()"
      ],
      "metadata": {
        "id": "GkckTQsF0nR6"
      },
      "execution_count": null,
      "outputs": []
    },
    {
      "cell_type": "code",
      "source": [
        "df.head()"
      ],
      "metadata": {
        "id": "UsLeO5BX01gb"
      },
      "execution_count": null,
      "outputs": []
    },
    {
      "cell_type": "code",
      "source": [
        "df.info()"
      ],
      "metadata": {
        "id": "SfEj5HXe0r_v"
      },
      "execution_count": null,
      "outputs": []
    },
    {
      "cell_type": "code",
      "source": [
        "df[df['TotalCharges']==\" \"]"
      ],
      "metadata": {
        "id": "COEOdX8G1bzg"
      },
      "execution_count": null,
      "outputs": []
    },
    {
      "cell_type": "code",
      "source": [
        "df[df['TotalCharges']==\" \"].shape"
      ],
      "metadata": {
        "id": "CwnpR_q-1h3u"
      },
      "execution_count": null,
      "outputs": []
    },
    {
      "cell_type": "code",
      "source": [
        "df = df[df['TotalCharges']!=\" \"]"
      ],
      "metadata": {
        "id": "80Flnyxe1jcB"
      },
      "execution_count": null,
      "outputs": []
    },
    {
      "cell_type": "code",
      "source": [
        "df['TotalCharges'] = pd.to_numeric(df['TotalCharges'])\n"
      ],
      "metadata": {
        "id": "iRulxMu60tCf"
      },
      "execution_count": null,
      "outputs": []
    },
    {
      "cell_type": "code",
      "source": [
        "df['TotalCharges'].dtype"
      ],
      "metadata": {
        "id": "DFN6sWtM1Vmo"
      },
      "execution_count": null,
      "outputs": []
    },
    {
      "cell_type": "code",
      "source": [
        "df.shape"
      ],
      "metadata": {
        "id": "Uie-Hbpk1oje"
      },
      "execution_count": null,
      "outputs": []
    },
    {
      "cell_type": "code",
      "source": [
        "sns.histplot(df, x = 'Churn', hue='Churn')"
      ],
      "metadata": {
        "id": "tZcy2p576DHX"
      },
      "execution_count": null,
      "outputs": []
    },
    {
      "cell_type": "code",
      "source": [
        "cm_yes_churn_tennure = df[df['Churn']=='Yes']['tenure']\n",
        "cm_no_churn_tennure = df[df['Churn']=='No']['tenure']\n",
        "\n",
        "# blood_sugar_men = [113, 85, 90, 150, 149, 88, 93, 115, 135, 80, 77, 82, 129]\n",
        "# blood_sugar_women = [67, 98, 89, 120, 133, 150, 84, 69, 89, 79, 120, 112, 100]\n",
        "plt.hist([cm_yes_churn_tennure, cm_no_churn_tennure], color=['red', 'green'], label=['Yes', 'No'])\n",
        "plt.legend()\n",
        "plt.xlabel('Tenure')\n",
        "plt.ylabel('Count')\n",
        "plt.title('Churn vs Tenure')\n",
        "plt.show()\n"
      ],
      "metadata": {
        "id": "PwHCHH4F6uHn"
      },
      "execution_count": null,
      "outputs": []
    },
    {
      "cell_type": "code",
      "source": [
        "churn_yes_MonthlyCharges = df[df['Churn']=='Yes']['MonthlyCharges']\n",
        "churn_no_MonthlyCharges = df[df['Churn']=='No']['MonthlyCharges']\n",
        "plt.hist([churn_yes_MonthlyCharges, churn_no_MonthlyCharges], color=['red', 'green'], label=['Yes', 'No'])\n",
        "plt.legend()\n",
        "plt.xlabel('MonthlyCharges')\n",
        "plt.ylabel('Count')\n",
        "plt.title('Churn vs MonthlyCharges')\n",
        "plt.show()"
      ],
      "metadata": {
        "id": "hgmY4D1d8MDS"
      },
      "execution_count": null,
      "outputs": []
    },
    {
      "cell_type": "markdown",
      "source": [
        "# Check Spelling"
      ],
      "metadata": {
        "id": "IadhgL7q1vxN"
      }
    },
    {
      "cell_type": "code",
      "source": [
        "for col in df.select_dtypes(include=('object')):\n",
        "    print(f'{col}: {df[col].unique()}')"
      ],
      "metadata": {
        "id": "P4Qs2BfF1sna"
      },
      "execution_count": null,
      "outputs": []
    },
    {
      "cell_type": "code",
      "source": [
        "df['MultipleLines'].replace('No phone service', 'No', inplace=True)\n",
        "df['OnlineSecurity'].replace('No internet service', 'No', inplace=True)\n",
        "df['OnlineBackup'].replace('No internet service', 'No', inplace=True)\n",
        "df['DeviceProtection'].replace('No internet service', 'No', inplace=True)\n",
        "df['TechSupport'].replace('No internet service', 'No', inplace=True)\n",
        "df['StreamingTV'].replace('No internet service', 'No', inplace=True)\n",
        "df['StreamingMovies'].replace('No internet service', 'No', inplace=True)\n"
      ],
      "metadata": {
        "collapsed": true,
        "id": "DPmrv9UN1-CI"
      },
      "execution_count": null,
      "outputs": []
    },
    {
      "cell_type": "code",
      "source": [
        "for col in df.select_dtypes(include=('object')):\n",
        "    print(f'{col}: {df[col].unique()}')"
      ],
      "metadata": {
        "id": "mRUroIhB3a7I"
      },
      "execution_count": null,
      "outputs": []
    },
    {
      "cell_type": "code",
      "source": [
        "len(df['gender'].unique())"
      ],
      "metadata": {
        "id": "RIPDntHM3q7w"
      },
      "execution_count": null,
      "outputs": []
    },
    {
      "cell_type": "code",
      "source": [
        "holder_column = []\n",
        "for value in df.select_dtypes(include=('object')):\n",
        "    if len(df[value].unique()) == 2:\n",
        "        holder_column.append(value)\n",
        "\n",
        "holder_column\n"
      ],
      "metadata": {
        "id": "sMF6atdt37jH"
      },
      "execution_count": null,
      "outputs": []
    },
    {
      "cell_type": "code",
      "source": [
        "list_encoder = ['Partner',\n",
        " 'Dependents',\n",
        " 'PhoneService',\n",
        " 'MultipleLines',\n",
        " 'OnlineSecurity',\n",
        " 'OnlineBackup',\n",
        " 'DeviceProtection',\n",
        " 'TechSupport',\n",
        " 'StreamingTV',\n",
        " 'StreamingMovies',\n",
        " 'PaperlessBilling',\n",
        " 'Churn']"
      ],
      "metadata": {
        "id": "olPQvS7z4gB3"
      },
      "execution_count": null,
      "outputs": []
    },
    {
      "cell_type": "code",
      "source": [
        "for col in list_encoder:\n",
        "    df[col] = df[col].map({'Yes': 1, 'No': 0})"
      ],
      "metadata": {
        "id": "4nTQzt9v42d5"
      },
      "execution_count": null,
      "outputs": []
    },
    {
      "cell_type": "code",
      "source": [
        "for col in df.select_dtypes(include=('object')):\n",
        "    print(f'{col}: {df[col].unique()}')"
      ],
      "metadata": {
        "id": "xloVJ0mS5Mwj"
      },
      "execution_count": null,
      "outputs": []
    },
    {
      "cell_type": "code",
      "source": [
        "list_categories = ['gender', 'InternetService', 'Contract', 'PaymentMethod']\n",
        "\n",
        "df = pd.get_dummies( df, columns =list_categories, drop_first=True, dtype=int)"
      ],
      "metadata": {
        "id": "6yMi_eni5RWQ"
      },
      "execution_count": null,
      "outputs": []
    },
    {
      "cell_type": "code",
      "source": [
        "df.head()"
      ],
      "metadata": {
        "id": "vPboc84N9jpS"
      },
      "execution_count": null,
      "outputs": []
    },
    {
      "cell_type": "code",
      "source": [
        "df.shape"
      ],
      "metadata": {
        "id": "WDycvsVh5iP_"
      },
      "execution_count": null,
      "outputs": []
    },
    {
      "cell_type": "code",
      "source": [
        "for col in df.columns:\n",
        "    print(f'{col}: {df[col].unique()}')"
      ],
      "metadata": {
        "id": "Qj5LAeZw9N6S"
      },
      "execution_count": null,
      "outputs": []
    },
    {
      "cell_type": "code",
      "source": [
        "list_numerical = ['tenure', 'MonthlyCharges', 'TotalCharges']\n",
        "from sklearn.preprocessing import MinMaxScaler\n",
        "scaler = MinMaxScaler()\n",
        "df[list_numerical] = scaler.fit_transform(df[list_numerical])"
      ],
      "metadata": {
        "id": "COiUSM589dJ2"
      },
      "execution_count": null,
      "outputs": []
    },
    {
      "cell_type": "code",
      "source": [
        "for col in df.columns:\n",
        "    print(f'{col}: {df[col].unique()}')"
      ],
      "metadata": {
        "id": "Sp7JS0DE90Eo"
      },
      "execution_count": null,
      "outputs": []
    },
    {
      "cell_type": "markdown",
      "source": [],
      "metadata": {
        "id": "Fi_NqwZX98GP"
      }
    },
    {
      "cell_type": "code",
      "source": [
        "# Check VIF or Correlation"
      ],
      "metadata": {
        "id": "8AYNFqYB95XH"
      },
      "execution_count": null,
      "outputs": []
    },
    {
      "cell_type": "code",
      "source": [
        "from statsmodels.stats.outliers_influence import variance_inflation_factor\n",
        "\n",
        "def check_vif(data):\n",
        "    df = pd.DataFrame()\n",
        "    df[\"features\"] = data.columns\n",
        "    df[\"VIF\"] = [variance_inflation_factor(data.values, i) for i in range(data.shape[1])]\n",
        "    return df\n",
        "\n",
        "df_vif = check_vif(df.drop('Churn', axis=1))\n",
        "df_vif"
      ],
      "metadata": {
        "id": "XuIgu2t_-ABi"
      },
      "execution_count": null,
      "outputs": []
    },
    {
      "cell_type": "code",
      "source": [
        "df_vif[df_vif['VIF']>20].sort_values(by='VIF', ascending=False).features.tolist()"
      ],
      "metadata": {
        "id": "RxD85mOn-EYV"
      },
      "execution_count": null,
      "outputs": []
    },
    {
      "cell_type": "code",
      "source": [
        "df.drop(df_vif[df_vif['VIF']>20].sort_values(by='VIF', ascending=False).features.tolist(), axis=1, inplace=True)\n"
      ],
      "metadata": {
        "id": "TWR7xLq__EPU"
      },
      "execution_count": null,
      "outputs": []
    },
    {
      "cell_type": "code",
      "source": [
        "df_vif = check_vif(df.drop('Churn', axis=1))\n",
        "df_vif"
      ],
      "metadata": {
        "id": "6Rt5xfIA_70L"
      },
      "execution_count": null,
      "outputs": []
    },
    {
      "cell_type": "code",
      "source": [
        "df_vif[df_vif['VIF']>10].sort_values(by='VIF', ascending=False).features.tolist()"
      ],
      "metadata": {
        "id": "fGR1-sxzAL5S"
      },
      "execution_count": null,
      "outputs": []
    },
    {
      "cell_type": "code",
      "source": [
        "df.drop(df_vif[df_vif['VIF']>10].sort_values(by='VIF', ascending=False).features.tolist(), axis=1, inplace=True)"
      ],
      "metadata": {
        "id": "ZcwVMs6PAo4L"
      },
      "execution_count": null,
      "outputs": []
    },
    {
      "cell_type": "code",
      "source": [
        "df_vif = check_vif(df.drop('Churn', axis=1))\n",
        "df_vif"
      ],
      "metadata": {
        "id": "UW_fDckqAqgc"
      },
      "execution_count": null,
      "outputs": []
    },
    {
      "cell_type": "code",
      "source": [
        "print(df.shape)\n",
        "df.head()"
      ],
      "metadata": {
        "id": "w8d20xzOAxDP"
      },
      "execution_count": null,
      "outputs": []
    },
    {
      "cell_type": "markdown",
      "source": [
        "# Training model"
      ],
      "metadata": {
        "id": "hi7y8eouA3Cg"
      }
    },
    {
      "cell_type": "code",
      "source": [
        "X = df.drop('Churn', axis=1)\n",
        "y = df['Churn']"
      ],
      "metadata": {
        "id": "TmT3CYiJA6TW"
      },
      "execution_count": null,
      "outputs": []
    },
    {
      "cell_type": "code",
      "source": [
        "from sklearn.model_selection import train_test_split\n",
        "X_train, X_test, y_train, y_test = train_test_split(X, y, test_size=0.2, random_state=42)"
      ],
      "metadata": {
        "id": "G0g5C2hWBLM6"
      },
      "execution_count": null,
      "outputs": []
    },
    {
      "cell_type": "code",
      "source": [
        "model  = keras.Sequential([\n",
        "    keras.layers.Dense(128, input_shape=(17,), activation='relu'),\n",
        "    keras.layers.Dense(64, activation='relu'),\n",
        "    keras.layers.Dense(32, activation='relu'),\n",
        "    keras.layers.Dense(1, activation='sigmoid')\n",
        "])\n",
        "\n",
        "model.compile(optimizer='adam', loss='binary_crossentropy', metrics=['accuracy'])\n"
      ],
      "metadata": {
        "id": "TzeHggEWBNs7"
      },
      "execution_count": null,
      "outputs": []
    },
    {
      "cell_type": "code",
      "source": [
        "with tf.device('/GPU:0'):\n",
        "    model.fit(X_train, y_train, epochs=100)"
      ],
      "metadata": {
        "id": "flwootNBBgMr"
      },
      "execution_count": null,
      "outputs": []
    },
    {
      "cell_type": "code",
      "source": [
        "model.evaluate(X_test, y_test)"
      ],
      "metadata": {
        "id": "9tUve0mBCWFZ"
      },
      "execution_count": null,
      "outputs": []
    },
    {
      "cell_type": "code",
      "source": [
        "from sklearn.metrics import confusion_matrix, classification_report\n",
        "y_pred = model.predict(X_test)\n",
        "y_pred[:5]"
      ],
      "metadata": {
        "id": "69nduFP_Cl0m"
      },
      "execution_count": null,
      "outputs": []
    },
    {
      "cell_type": "code",
      "source": [
        "y_predict = []\n",
        "for i in range(len(y_pred)):\n",
        "    if y_pred[i] >= 0.5:\n",
        "       y_predict.append(1)\n",
        "    else:\n",
        "        y_predict.append(0)"
      ],
      "metadata": {
        "id": "NF11FATtC6R_"
      },
      "execution_count": null,
      "outputs": []
    },
    {
      "cell_type": "code",
      "source": [
        "y_predict[:10]"
      ],
      "metadata": {
        "id": "FWWmKtjoCtSu"
      },
      "execution_count": null,
      "outputs": []
    },
    {
      "cell_type": "code",
      "source": [
        "y_test[:10].values"
      ],
      "metadata": {
        "id": "w3hQTC8YC_XV"
      },
      "execution_count": null,
      "outputs": []
    },
    {
      "cell_type": "code",
      "source": [
        "report = classification_report(y_test, y_predict)\n",
        "print(report)"
      ],
      "metadata": {
        "id": "FzVtAKt2DBxA"
      },
      "execution_count": null,
      "outputs": []
    },
    {
      "cell_type": "code",
      "source": [
        "cm  = confusion_matrix(y_test, y_predict)\n",
        "sns.heatmap(cm, annot=True, fmt='d', cmap='Blues')"
      ],
      "metadata": {
        "id": "FUrLh_jND9ME"
      },
      "execution_count": null,
      "outputs": []
    },
    {
      "cell_type": "code",
      "source": [],
      "metadata": {
        "id": "kv0w3L4uEF8d"
      },
      "execution_count": null,
      "outputs": []
    }
  ]
}