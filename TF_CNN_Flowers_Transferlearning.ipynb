{
  "nbformat": 4,
  "nbformat_minor": 0,
  "metadata": {
    "colab": {
      "private_outputs": true,
      "provenance": [],
      "machine_shape": "hm",
      "gpuType": "A100",
      "mount_file_id": "1erE0wMqUzBcOLk4-NVPPZ-M3z50q3qSn",
      "authorship_tag": "ABX9TyPWiAXxEfeELGLsELx8T2Sa",
      "include_colab_link": true
    },
    "kernelspec": {
      "name": "python3",
      "display_name": "Python 3"
    },
    "language_info": {
      "name": "python"
    },
    "accelerator": "GPU"
  },
  "cells": [
    {
      "cell_type": "markdown",
      "metadata": {
        "id": "view-in-github",
        "colab_type": "text"
      },
      "source": [
        "<a href=\"https://colab.research.google.com/github/RickyDoan/DL-Tensor-Flow-Prediction/blob/main/TF_CNN_Flowers_Transferlearning.ipynb\" target=\"_parent\"><img src=\"https://colab.research.google.com/assets/colab-badge.svg\" alt=\"Open In Colab\"/></a>"
      ]
    },
    {
      "cell_type": "code",
      "execution_count": null,
      "metadata": {
        "id": "gPeFdHC6j-f0"
      },
      "outputs": [],
      "source": [
        "import matplotlib.pyplot as plt\n",
        "import numpy as np\n",
        "import tensorflow as tf\n",
        "from tensorflow import keras\n",
        "import PIL\n",
        "import os\n",
        "import cv2\n",
        "import pathlib\n",
        "import tensorflow_hub as hub\n",
        "import tf_keras as tfk\n",
        "import PIL.Image as Image"
      ]
    },
    {
      "cell_type": "code",
      "source": [
        "tf.config.list_physical_devices('GPU')"
      ],
      "metadata": {
        "id": "7yTWDFh6Y_63"
      },
      "execution_count": null,
      "outputs": []
    },
    {
      "cell_type": "code",
      "source": [
        "# ! pip install tensorflow tensorflow-hub\n"
      ],
      "metadata": {
        "collapsed": true,
        "id": "coMpIsGrC--7"
      },
      "execution_count": null,
      "outputs": []
    },
    {
      "cell_type": "code",
      "source": [
        "data_dir = '/content/drive/MyDrive/A Learning Tensor Flow/CNN-Image Classification/datasets/flower_photos'"
      ],
      "metadata": {
        "id": "PulCN5eIlIdx"
      },
      "execution_count": null,
      "outputs": []
    },
    {
      "cell_type": "code",
      "source": [
        "import pathlib\n",
        "\n",
        "data_dir = pathlib.Path(data_dir)\n",
        "data_dir\n"
      ],
      "metadata": {
        "id": "fE4ZVCpD1egN"
      },
      "execution_count": null,
      "outputs": []
    },
    {
      "cell_type": "code",
      "source": [
        "image_count = len(list(data_dir.glob('*/*.jpg')))\n",
        "print(image_count)"
      ],
      "metadata": {
        "id": "qCC1QU0R1vKh"
      },
      "execution_count": null,
      "outputs": []
    },
    {
      "cell_type": "code",
      "source": [
        "roses = list(data_dir.glob('roses/*'))\n",
        "roses[:5]"
      ],
      "metadata": {
        "id": "eyinkuKw2pnV"
      },
      "execution_count": null,
      "outputs": []
    },
    {
      "cell_type": "code",
      "source": [
        "PIL.Image.open(str(roses[1]))"
      ],
      "metadata": {
        "id": "hQj-Rg3r2sHH"
      },
      "execution_count": null,
      "outputs": []
    },
    {
      "cell_type": "code",
      "source": [
        "batch_size = 32\n",
        "img_height = 224\n",
        "img_width = 224"
      ],
      "metadata": {
        "id": "1llwawkp3y9l"
      },
      "execution_count": null,
      "outputs": []
    },
    {
      "cell_type": "code",
      "source": [
        "train_ds = tf.keras.utils.image_dataset_from_directory(\n",
        "  data_dir,\n",
        "  validation_split=0.2,\n",
        "  subset=\"training\",\n",
        "  seed=123,\n",
        "  image_size=(img_height, img_width),\n",
        "  batch_size=batch_size)\n",
        "\n",
        "val_ds = tf.keras.utils.image_dataset_from_directory(\n",
        "  data_dir,\n",
        "  validation_split=0.2,\n",
        "  subset=\"validation\",\n",
        "  seed=123,\n",
        "  image_size=(img_height, img_width),\n",
        "  batch_size=batch_size\n",
        ")"
      ],
      "metadata": {
        "id": "gonjVOFk4L_x"
      },
      "execution_count": null,
      "outputs": []
    },
    {
      "cell_type": "code",
      "source": [
        "class_name = train_ds.class_names\n",
        "print(class_name)"
      ],
      "metadata": {
        "id": "Tw_VcLHg4cNu"
      },
      "execution_count": null,
      "outputs": []
    },
    {
      "cell_type": "code",
      "source": [
        "plt.figure(figsize=(10,10))\n",
        "for images, labels in train_ds.take(1):\n",
        "  for i in range(9):\n",
        "    ax = plt.subplot(3,3,i+1)\n",
        "    plt.imshow(images[i].numpy().astype('uint8'))\n",
        "    plt.title(class_name[labels[i]])\n",
        "    plt.axis('off')\n",
        "plt.show()"
      ],
      "metadata": {
        "id": "tRQevR2z4jRy"
      },
      "execution_count": null,
      "outputs": []
    },
    {
      "cell_type": "code",
      "source": [
        "tulips = list(data_dir.glob('tulips/*'))\n",
        "plt.figure(figsize=(10,7))\n",
        "for i in range(9):\n",
        "    ax = plt.subplot(3,3,i+1)\n",
        "    plt.imshow(Image.open(str(tulips[i])))\n",
        "    plt.axis('off')\n",
        "plt.show()"
      ],
      "metadata": {
        "id": "qnMDs39q4rGr"
      },
      "execution_count": null,
      "outputs": []
    },
    {
      "cell_type": "code",
      "source": [
        "len(class_name)"
      ],
      "metadata": {
        "id": "MNNG9QLo9fHE"
      },
      "execution_count": null,
      "outputs": []
    },
    {
      "cell_type": "code",
      "source": [
        "mobilenet_v2 =\"https://tfhub.dev/google/tf2-preview/mobilenet_v2/classification/4\"\n",
        "inception_v3 = \"https://tfhub.dev/google/imagenet/inception_v3/classification/5\""
      ],
      "metadata": {
        "id": "TZv8NSgOFlWJ"
      },
      "execution_count": null,
      "outputs": []
    },
    {
      "cell_type": "code",
      "source": [
        "IMAGE_SHAPE = (224,224)\n",
        "feature_extractor_model = \"https://tfhub.dev/google/tf2-preview/mobilenet_v2/feature_vector/4\"\n",
        "\n",
        "pretrained_model_without_top_layer = tfk.Sequential([\n",
        "  hub.KerasLayer(feature_extractor_model, input_shape=IMAGE_SHAPE+(3,), trainable=False)\n",
        "])\n",
        "num_of_flowers = 5\n",
        "\n",
        "model = tfk.Sequential([\n",
        "  tfk.layers.Rescaling(1./255, input_shape=IMAGE_SHAPE+(3,)),\n",
        "  pretrained_model_without_top_layer,\n",
        "  tfk.layers.Dense(num_of_flowers)\n",
        "])\n",
        "\n",
        "model.summary()"
      ],
      "metadata": {
        "collapsed": true,
        "id": "cYQBf9vGFp-v"
      },
      "execution_count": null,
      "outputs": []
    },
    {
      "cell_type": "code",
      "source": [
        "model.compile(\n",
        "    optimizer='adam',\n",
        "    loss=tfk.losses.SparseCategoricalCrossentropy(from_logits=True),\n",
        "    metrics=['accuracy']\n",
        ")\n",
        "\n",
        "with tf.device('/device:GPU:0'):\n",
        "      history = model.fit(train_ds, validation_data=val_ds, epochs=10)\n",
        "model.evaluate(val_ds)"
      ],
      "metadata": {
        "id": "L7NjqOZxY2rB"
      },
      "execution_count": null,
      "outputs": []
    },
    {
      "cell_type": "code",
      "source": [
        "IMG_SHAPE = (224,224)\n",
        "pretrained_model = \"https://tfhub.dev/google/tf2-preview/mobilenet_v2/feature_vector/4\"\n",
        "pretrained_tf = tfk.Sequential([\n",
        "  hub.KerasLayer(pretrained_model, input_shape=IMAGE_SHAPE+(3,), trainable=False)\n",
        "])\n",
        "\n",
        "data_augumentation = tfk.Sequential([\n",
        "  tfk.layers.RandomFlip('horizontal', input_shape=IMG_SHAPE+(3,)),\n",
        "  tfk.layers.RandomRotation(0.2),\n",
        "  tfk.layers.RandomZoom(0.1)\n",
        "])\n",
        "\n",
        "model_aug = tfk.Sequential([\n",
        "  tfk.layers.Rescaling(1./255, input_shape=IMG_SHAPE+(3,)),\n",
        "  pretrained_tf,\n",
        "  tfk.layers.Dropout(0.2),\n",
        "  tfk.layers.Dense(5)\n",
        "])\n",
        "\n",
        "model_aug.summary()"
      ],
      "metadata": {
        "id": "TGVtvj99WqyX"
      },
      "execution_count": null,
      "outputs": []
    },
    {
      "cell_type": "code",
      "source": [
        "# model_aug.compile(\n",
        "#     optimizer='adam',\n",
        "#     loss=tfk.losses.SparseCategoricalCrossentropy(from_logits=True),\n",
        "#     metrics=['accuracy']\n",
        "# )\n",
        "# with tf.device('/device:GPU:0'):\n",
        "#       history = model_aug.fit(train_ds, validation_data=val_ds, epochs=10)\n",
        "# model_aug.evaluate(val_ds)"
      ],
      "metadata": {
        "id": "-ngM1FR0cfgg"
      },
      "execution_count": null,
      "outputs": []
    },
    {
      "cell_type": "code",
      "source": [
        "for image_batch, label_batch in val_ds:\n",
        "  print(image_batch.shape)\n",
        "  print(label_batch.shape)\n",
        "  break"
      ],
      "metadata": {
        "id": "ziSvStSEBfan"
      },
      "execution_count": null,
      "outputs": []
    },
    {
      "cell_type": "code",
      "source": [
        "class_names = train_ds.class_names\n",
        "print(class_names)"
      ],
      "metadata": {
        "id": "n7m85FJ3fLFF"
      },
      "execution_count": null,
      "outputs": []
    },
    {
      "cell_type": "code",
      "source": [
        "from sklearn.metrics import confusion_matrix, classification_report\n",
        "\n",
        "y_pred_all = []  # To store all predictions\n",
        "y_true_all = []  # To store all true labels\n",
        "\n",
        "for image_batch, label_batch in val_ds:\n",
        "  y_pred = model.predict(image_batch)\n",
        "  y_pred = np.argmax(y_pred, axis=1)\n",
        "\n",
        "  y_pred_all.extend(y_pred)  # Accumulate predictions\n",
        "  y_true_all.extend(label_batch.numpy())  # Accumulate true labels\n",
        "\n",
        "print(classification_report(y_true_all, y_pred_all, target_names=class_names))\n"
      ],
      "metadata": {
        "id": "hCYT8-1qBPE9"
      },
      "execution_count": null,
      "outputs": []
    },
    {
      "cell_type": "code",
      "source": [],
      "metadata": {
        "id": "TS7VELjBfIjF"
      },
      "execution_count": null,
      "outputs": []
    }
  ]
}