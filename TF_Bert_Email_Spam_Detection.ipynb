{
  "nbformat": 4,
  "nbformat_minor": 0,
  "metadata": {
    "colab": {
      "private_outputs": true,
      "provenance": [],
      "machine_shape": "hm",
      "gpuType": "A100",
      "cell_execution_strategy": "setup",
      "mount_file_id": "1WKVnlNkuYQVugy0DtmxW69QDKtZEMqpn",
      "authorship_tag": "ABX9TyOphUBLWJO3JsNAMVcDuT8i",
      "include_colab_link": true
    },
    "kernelspec": {
      "name": "python3",
      "display_name": "Python 3"
    },
    "language_info": {
      "name": "python"
    },
    "accelerator": "GPU"
  },
  "cells": [
    {
      "cell_type": "markdown",
      "metadata": {
        "id": "view-in-github",
        "colab_type": "text"
      },
      "source": [
        "<a href=\"https://colab.research.google.com/github/RickyDoan/DL-Tensor-Flow-Prediction/blob/main/TF_Bert_Email_Spam_Detection.ipynb\" target=\"_parent\"><img src=\"https://colab.research.google.com/assets/colab-badge.svg\" alt=\"Open In Colab\"/></a>"
      ]
    },
    {
      "cell_type": "code",
      "execution_count": null,
      "metadata": {
        "id": "VWQnMQHpVfiv"
      },
      "outputs": [],
      "source": [
        "import pandas as pd"
      ]
    },
    {
      "cell_type": "code",
      "source": [
        "!pip install tensorflow_text\n",
        "import tensorflow_text as text\n",
        "import tensorflow as tf\n",
        "import tensorflow_hub as hub\n",
        "import tf_keras as keras"
      ],
      "metadata": {
        "id": "kR20U_8zhzXo"
      },
      "execution_count": null,
      "outputs": []
    },
    {
      "cell_type": "code",
      "source": [
        "df = pd.read_csv(\"/content/drive/MyDrive/A Learning Tensor Flow/Bert-Email Spam/spam.csv\", encoding='latin-1', usecols=['v1','v2'])\n",
        "df.head()\n",
        "print(df.shape)\n",
        "df.head()"
      ],
      "metadata": {
        "id": "0owXyQKKWUJc"
      },
      "execution_count": null,
      "outputs": []
    },
    {
      "cell_type": "code",
      "source": [
        "df.isnull().sum()"
      ],
      "metadata": {
        "id": "DkUBDz5xXImf"
      },
      "execution_count": null,
      "outputs": []
    },
    {
      "cell_type": "code",
      "source": [
        "from imblearn.over_sampling import RandomOverSampler\n",
        "\n",
        "ros = RandomOverSampler()\n",
        "X_resampled, y_resampled = ros.fit_resample(df[['v2']], df['v1'])"
      ],
      "metadata": {
        "id": "uxXWTSfPtSdW"
      },
      "execution_count": null,
      "outputs": []
    },
    {
      "cell_type": "code",
      "source": [
        "y_resampled.value_counts()"
      ],
      "metadata": {
        "id": "HMgYtAZytcxg"
      },
      "execution_count": null,
      "outputs": []
    },
    {
      "cell_type": "code",
      "source": [
        "df_ham_sampled = df_ham.sample(df_spam.shape[0])\n",
        "df_ham_sampled.shape"
      ],
      "metadata": {
        "id": "ZDuPwf5YorA_"
      },
      "execution_count": null,
      "outputs": []
    },
    {
      "cell_type": "code",
      "source": [
        "df_sample = pd.concat([df_spam, df_ham_sampled], axis=0)\n",
        "print(df_sample.shape)\n",
        "df_sample.head()"
      ],
      "metadata": {
        "id": "EYKtEl9Uo0Iv"
      },
      "execution_count": null,
      "outputs": []
    },
    {
      "cell_type": "code",
      "source": [
        "df_sample['v1'].value_counts()"
      ],
      "metadata": {
        "id": "Xx14EoOWo83b"
      },
      "execution_count": null,
      "outputs": []
    },
    {
      "cell_type": "code",
      "source": [
        "df_sample['v1'] = df_sample['v1'].map({'spam':1,'ham':0})\n",
        "\n",
        "df_sample = df_sample.rename(columns ={\n",
        "    'v2':'email',\n",
        "    'v1': 'spam'\n",
        "})\n",
        "df_sample.head()\n"
      ],
      "metadata": {
        "id": "OR7Ge4oCpD4h"
      },
      "execution_count": null,
      "outputs": []
    },
    {
      "cell_type": "code",
      "source": [],
      "metadata": {
        "id": "u5pIzYMSpvK6"
      },
      "execution_count": null,
      "outputs": []
    },
    {
      "cell_type": "code",
      "source": [
        "df_sample['spam'].value_counts()"
      ],
      "metadata": {
        "id": "tsXCkCRNpzjA"
      },
      "execution_count": null,
      "outputs": []
    },
    {
      "cell_type": "code",
      "source": [
        "from sklearn.model_selection import train_test_split\n",
        "\n",
        "X = df_sample['email']\n",
        "y = df_sample['spam']\n",
        "X_train, X_test, y_train, y_test = train_test_split(X, y, test_size=0.2, random_state=42)"
      ],
      "metadata": {
        "id": "5MNZwclXaJNx"
      },
      "execution_count": null,
      "outputs": []
    },
    {
      "cell_type": "code",
      "source": [
        "X_train.head()"
      ],
      "metadata": {
        "id": "md418uqycNvj"
      },
      "execution_count": null,
      "outputs": []
    },
    {
      "cell_type": "code",
      "source": [
        "text_input = keras.layers.Input(shape=(), dtype=tf.string)\n",
        "# bert_preprocess = hub.KerasLayer(\"https://tfhub.dev/tensorflow/bert_en_uncased_preprocess/3\")\n",
        "# bert_encoder = hub.KerasLayer(\"https://tfhub.dev/tensorflow/bert_en_uncased_L-12_H-768_A-12/4\")\n",
        "preprocessor = hub.KerasLayer(\n",
        "    \"https://tfhub.dev/tensorflow/bert_en_uncased_preprocess/3\")\n",
        "encoder_inputs = preprocessor(text_input)\n",
        "encoder = hub.KerasLayer(\n",
        "    \"https://tfhub.dev/tensorflow/bert_en_uncased_L-12_H-768_A-12/4\",\n",
        "    trainable=False)\n",
        "outputs = encoder(encoder_inputs)\n",
        "pooled_output = outputs[\"pooled_output\"]      # [batch_size, 768].\n",
        "sequence_output = outputs[\"sequence_output\"]  # [batch_size, seq_length, 768]."
      ],
      "metadata": {
        "id": "WDnE-w2pkMdC"
      },
      "execution_count": null,
      "outputs": []
    },
    {
      "cell_type": "code",
      "source": [
        "s = keras.layers.Dropout(0.2,name ='dropout')(pooled_output)\n",
        "s = keras.layers.Dense(64,activation ='relu',name = 'h64')(s)\n",
        "s = keras.layers.Dense(32,activation ='relu',name ='h34')(s)\n",
        "s = keras.layers.Dense(8,activation ='relu',name ='h8')(s)\n",
        "s = keras.layers.Dense(1,activation ='sigmoid',name ='output')(s)\n",
        "\n",
        "model = keras.Model(text_input,s)"
      ],
      "metadata": {
        "id": "ysBvREbUkmIr"
      },
      "execution_count": null,
      "outputs": []
    },
    {
      "cell_type": "code",
      "source": [
        "model.compile(optimizer='adam', loss='binary_crossentropy', metrics=['accuracy'])"
      ],
      "metadata": {
        "id": "KK7Pq_Y_mbyU"
      },
      "execution_count": null,
      "outputs": []
    },
    {
      "cell_type": "code",
      "source": [
        "tf.config.list_physical_devices('GPU')"
      ],
      "metadata": {
        "id": "TLt0CC8nmrFQ"
      },
      "execution_count": null,
      "outputs": []
    },
    {
      "cell_type": "code",
      "source": [
        "with tf.device('/device:GPU:0'):\n",
        "    model.fit(X_train, y_train, epochs=10)"
      ],
      "metadata": {
        "id": "3wAvhDDmmc_n"
      },
      "execution_count": null,
      "outputs": []
    },
    {
      "cell_type": "code",
      "source": [
        "model.evaluate(X_test, y_test)"
      ],
      "metadata": {
        "id": "8xbzGJQJnUMN"
      },
      "execution_count": null,
      "outputs": []
    },
    {
      "cell_type": "code",
      "source": [
        "from sklearn.metrics import classification_report, confusion_matrix\n",
        "import numpy as np\n",
        "\n",
        "y_pred = model.predict(X_test)\n",
        "y_pred = np.where(y_pred > 0.5, 1, 0)\n",
        "report = classification_report(y_test, y_pred)\n",
        "print(report)"
      ],
      "metadata": {
        "id": "5jeqHJEin0nI"
      },
      "execution_count": null,
      "outputs": []
    },
    {
      "cell_type": "code",
      "source": [
        "text = \"URGENT! You have won a 1 week FREE membership in our Â£100,000 Prize Jackpot! Txt the word: CLAIM to No: 81010 T&C www.dbuk.net LCCLTD POBOX 4403LDNW1A7RW18\""
      ],
      "metadata": {
        "id": "Vy15B3pXqq04"
      },
      "execution_count": null,
      "outputs": []
    },
    {
      "cell_type": "code",
      "source": [
        "prediction = model.predict([text])\n",
        "prediction = np.where(prediction > 0.5, 1, 0)\n",
        "if prediction[0][0] == 1:\n",
        "  print(\"Spam\")\n",
        "else:\n",
        "  print(\"Ham\")"
      ],
      "metadata": {
        "id": "XemvDCpxrIVu"
      },
      "execution_count": null,
      "outputs": []
    },
    {
      "cell_type": "code",
      "source": [
        "df.head()"
      ],
      "metadata": {
        "id": "p5m7zqgUrY2s"
      },
      "execution_count": null,
      "outputs": []
    },
    {
      "cell_type": "code",
      "source": [
        "df['v1'].value_counts()"
      ],
      "metadata": {
        "id": "lYbTEEb6twm5"
      },
      "execution_count": null,
      "outputs": []
    },
    {
      "cell_type": "code",
      "source": [
        "df['v1'] = df['v1'].map({'spam':1,'ham':0})\n",
        "\n",
        "df = df.rename(columns ={\n",
        "    'v2':'email',\n",
        "    'v1': 'spam'\n",
        "})\n",
        "df.head()"
      ],
      "metadata": {
        "id": "ISezwQDJvZ-_"
      },
      "execution_count": null,
      "outputs": []
    },
    {
      "cell_type": "code",
      "source": [
        "from imblearn.over_sampling import RandomOverSampler\n",
        "\n",
        "ros = RandomOverSampler()\n",
        "X_resampled, y_resampled = ros.fit_resample(df[['email']], df['spam'])"
      ],
      "metadata": {
        "id": "gQ8WB4q7ty18"
      },
      "execution_count": null,
      "outputs": []
    },
    {
      "cell_type": "code",
      "source": [
        "y_resampled.value_counts()"
      ],
      "metadata": {
        "id": "XSV6x78st4Gl"
      },
      "execution_count": null,
      "outputs": []
    },
    {
      "cell_type": "code",
      "source": [
        "X_train2, X_test2, y_train2, y_test2 = train_test_split(X_resampled, y_resampled, test_size=0.2, random_state=42)"
      ],
      "metadata": {
        "id": "llIvxUuet5Vz"
      },
      "execution_count": null,
      "outputs": []
    },
    {
      "cell_type": "code",
      "source": [
        "text_input = keras.layers.Input(shape=(), dtype=tf.string)\n",
        "# bert_preprocess = hub.KerasLayer(\"https://tfhub.dev/tensorflow/bert_en_uncased_preprocess/3\")\n",
        "# bert_encoder = hub.KerasLayer(\"https://tfhub.dev/tensorflow/bert_en_uncased_L-12_H-768_A-12/4\")\n",
        "preprocessor = hub.KerasLayer(\n",
        "    \"https://tfhub.dev/tensorflow/bert_en_uncased_preprocess/3\")\n",
        "encoder_inputs = preprocessor(text_input)\n",
        "encoder = hub.KerasLayer(\n",
        "    \"https://tfhub.dev/tensorflow/bert_en_uncased_L-12_H-768_A-12/4\",\n",
        "    trainable=False)\n",
        "outputs = encoder(encoder_inputs)\n",
        "pooled_output = outputs[\"pooled_output\"]      # [batch_size, 768].\n",
        "sequence_output = outputs[\"sequence_output\"]  # [batch_size, seq_length, 768]."
      ],
      "metadata": {
        "id": "bytoGenDu18K"
      },
      "execution_count": null,
      "outputs": []
    },
    {
      "cell_type": "code",
      "source": [
        "s = keras.layers.Dropout(0.2,name ='dropout')(pooled_output)\n",
        "s = keras.layers.Dense(64,activation ='relu',name = 'h64')(s)\n",
        "s = keras.layers.Dense(32,activation ='relu',name ='h34')(s)\n",
        "s = keras.layers.Dense(8,activation ='relu',name ='h8')(s)\n",
        "s = keras.layers.Dense(1,activation ='sigmoid',name ='output')(s)\n",
        "\n",
        "model2 = keras.Model(text_input,s)"
      ],
      "metadata": {
        "id": "INJPy5cpu3iz"
      },
      "execution_count": null,
      "outputs": []
    },
    {
      "cell_type": "code",
      "source": [
        "model2.compile(optimizer='adam', loss='binary_crossentropy', metrics=['accuracy'])"
      ],
      "metadata": {
        "id": "1pUtS71IvD7x"
      },
      "execution_count": null,
      "outputs": []
    },
    {
      "cell_type": "code",
      "source": [
        "with tf.device('/device:GPU:0'):\n",
        "    model2.fit(X_train2, y_train2, epochs=10)"
      ],
      "metadata": {
        "id": "U8SJWGVvuJyz"
      },
      "execution_count": null,
      "outputs": []
    },
    {
      "cell_type": "code",
      "source": [
        "model2.evaluate(X_test2, y_test2)"
      ],
      "metadata": {
        "id": "6ZT4US8BwWDm"
      },
      "execution_count": null,
      "outputs": []
    },
    {
      "cell_type": "code",
      "source": [
        "y_pred2 = model2.predict(X_test2)\n",
        "y_pred2 = np.where(y_pred2 > 0.5, 1, 0)\n",
        "report = classification_report(y_test2, y_pred2)\n",
        "print(report)"
      ],
      "metadata": {
        "id": "haDHtg1AwXYu"
      },
      "execution_count": null,
      "outputs": []
    },
    {
      "cell_type": "code",
      "source": [
        "import seaborn as sns\n",
        "import matplotlib.pyplot as plt\n",
        "\n",
        "cm = confusion_matrix(y_test2, y_pred2)\n",
        "sns.heatmap(cm, annot=True, fmt='d')\n",
        "plt.xlabel('Predicted')\n",
        "plt.ylabel('True')\n",
        "plt.show()"
      ],
      "metadata": {
        "id": "dGuwnwO5wrfy"
      },
      "execution_count": null,
      "outputs": []
    },
    {
      "cell_type": "code",
      "source": [
        "text2 = \"FreeMsg Hey there darling it's been 3 week's now and no word back! I'd like some fun you up for it still? Tb ok! XxX std chgs to send, Â£1.50 to rcv\""
      ],
      "metadata": {
        "id": "z5QL1iuOwcbc"
      },
      "execution_count": null,
      "outputs": []
    },
    {
      "cell_type": "code",
      "source": [
        "prediction2 = model2.predict([text2])\n",
        "prediction2 = np.where(prediction2 > 0.5, 1, 0)\n",
        "if prediction2[0][0] == 1:\n",
        "  print(\"Spam\")\n",
        "else:\n",
        "  print(\"Ham\")"
      ],
      "metadata": {
        "id": "T47EDNwiwjaP"
      },
      "execution_count": null,
      "outputs": []
    }
  ]
}